{
 "cells": [
  {
   "cell_type": "code",
   "execution_count": 7,
   "metadata": {},
   "outputs": [],
   "source": [
    "import requests"
   ]
  },
  {
   "cell_type": "code",
   "execution_count": 11,
   "metadata": {},
   "outputs": [
    {
     "name": "stdout",
     "output_type": "stream",
     "text": [
      "Requirement already satisfied: requests in c:\\users\\77773\\anaconda3\\envs\\lambda_homework\\lib\\site-packages (2.31.0)\n",
      "Requirement already satisfied: charset-normalizer<4,>=2 in c:\\users\\77773\\anaconda3\\envs\\lambda_homework\\lib\\site-packages (from requests) (2.0.4)\n",
      "Requirement already satisfied: idna<4,>=2.5 in c:\\users\\77773\\anaconda3\\envs\\lambda_homework\\lib\\site-packages (from requests) (3.7)\n",
      "Requirement already satisfied: urllib3<3,>=1.21.1 in c:\\users\\77773\\anaconda3\\envs\\lambda_homework\\lib\\site-packages (from requests) (1.26.18)\n",
      "Requirement already satisfied: certifi>=2017.4.17 in c:\\users\\77773\\anaconda3\\envs\\lambda_homework\\lib\\site-packages (from requests) (2024.2.2)\n",
      "Note: you may need to restart the kernel to use updated packages.\n"
     ]
    }
   ],
   "source": [
    "%pip install requests"
   ]
  },
  {
   "cell_type": "code",
   "execution_count": 15,
   "metadata": {},
   "outputs": [
    {
     "name": "stdout",
     "output_type": "stream",
     "text": [
      "{'statusCode': 200, 'body': \"{'dragon': 0.62757766}\"}\n"
     ]
    }
   ],
   "source": [
    "url = 'https://02lb3w2f76.execute-api.us-east-1.amazonaws.com/test_version/predict'\n",
    "data = {\n",
    "    'url': 'https://image.winudf.com/v2/image1/Y29tLnNpbmtpbmdzaGlwaW50ZXJhY3RpdmUuZGlub2NhbV9zY3JlZW5fMTZfMTU2MTQ0NTA5Nl8wODM/screen-8.jpg?fakeurl=1&type=.jpg'\n",
    "}\n",
    "\n",
    "result = requests.post(url, json=data)\n",
    "print(result.json())\n"
   ]
  }
 ],
 "metadata": {
  "kernelspec": {
   "display_name": "awslambda",
   "language": "python",
   "name": "python3"
  },
  "language_info": {
   "codemirror_mode": {
    "name": "ipython",
    "version": 3
   },
   "file_extension": ".py",
   "mimetype": "text/x-python",
   "name": "python",
   "nbconvert_exporter": "python",
   "pygments_lexer": "ipython3",
   "version": "3.9.18"
  }
 },
 "nbformat": 4,
 "nbformat_minor": 2
}
